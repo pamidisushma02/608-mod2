{
 "cells": [
  {
   "cell_type": "code",
   "execution_count": 1,
   "id": "28212fa8-ffd8-45cb-8a9d-ac843703d148",
   "metadata": {},
   "outputs": [],
   "source": [
    "grade = 85"
   ]
  },
  {
   "cell_type": "code",
   "execution_count": 2,
   "id": "6c3f7f8e-033c-49ce-9773-78cf5258570e",
   "metadata": {},
   "outputs": [
    {
     "data": {
      "text/plain": [
       "True"
      ]
     },
     "execution_count": 2,
     "metadata": {},
     "output_type": "execute_result"
    }
   ],
   "source": [
    "grade == 85"
   ]
  },
  {
   "cell_type": "code",
   "execution_count": 3,
   "id": "ce6ce463-43aa-4afc-9791-cd1c6367f79f",
   "metadata": {},
   "outputs": [
    {
     "name": "stdout",
     "output_type": "stream",
     "text": [
      "passed\n"
     ]
    }
   ],
   "source": [
    "grade = 85\n",
    "if grade >= 60:\n",
    "    print ('passed')"
   ]
  },
  {
   "cell_type": "code",
   "execution_count": 4,
   "id": "87596498-9118-43b9-a05c-0c4fd8abf708",
   "metadata": {},
   "outputs": [],
   "source": [
    "grade = 55\n",
    "if grade >= 60:\n",
    "    print ('passed')"
   ]
  },
  {
   "cell_type": "code",
   "execution_count": 2,
   "id": "e8ac94f7",
   "metadata": {},
   "outputs": [
    {
     "name": "stdout",
     "output_type": "stream",
     "text": [
      "passed\n"
     ]
    }
   ],
   "source": [
    "grade = 85\n",
    "if grade >= 60:\n",
    "    print ('passed')\n",
    "else:\n",
    "    print ('failed')"
   ]
  },
  {
   "cell_type": "code",
   "execution_count": 6,
   "id": "d0b30790-d971-40ce-9777-4cab020f6bae",
   "metadata": {},
   "outputs": [
    {
     "name": "stdout",
     "output_type": "stream",
     "text": [
      "passed\n"
     ]
    }
   ],
   "source": [
    "grade = 85\n",
    "if grade >= 60:\n",
    "    result = 'passed'\n",
    "else: \n",
    "    result = 'failed'\n",
    "    \n",
    "print (result)"
   ]
  },
  {
   "cell_type": "code",
   "execution_count": 7,
   "id": "503fab39-352a-43ab-8f68-3a57e78c73ae",
   "metadata": {},
   "outputs": [
    {
     "name": "stdout",
     "output_type": "stream",
     "text": [
      "passed\n"
     ]
    }
   ],
   "source": [
    "grade = 100\n",
    "if grade >= 60:\n",
    "    print ('passed')\n",
    "else:\n",
    "    print ('failed')\n",
    "    print ('take the course again')"
   ]
  },
  {
   "cell_type": "code",
   "execution_count": 8,
   "id": "f2bab26f-a635-4566-83c4-fff4c6bf7f56",
   "metadata": {},
   "outputs": [
    {
     "name": "stdout",
     "output_type": "stream",
     "text": [
      "failed\n",
      "take the course again\n"
     ]
    }
   ],
   "source": [
    "grade = 10\n",
    "if grade >= 60:\n",
    "    print ('passed')\n",
    "else:\n",
    "    print ('failed')\n",
    "    print ('take the course again')"
   ]
  },
  {
   "cell_type": "code",
   "execution_count": 9,
   "id": "215573e2-2891-43a0-a711-1c36ff159506",
   "metadata": {},
   "outputs": [
    {
     "name": "stdout",
     "output_type": "stream",
     "text": [
      "passed\n",
      "take the course again\n"
     ]
    }
   ],
   "source": [
    "grade = 100\n",
    "if grade >= 60:\n",
    "    print ('passed')\n",
    "else:\n",
    "    print ('failed')\n",
    "print ('take the course again')"
   ]
  },
  {
   "cell_type": "code",
   "execution_count": 10,
   "id": "a682035b-7ab8-4db7-b3ad-1e013aa77eb2",
   "metadata": {},
   "outputs": [
    {
     "name": "stdout",
     "output_type": "stream",
     "text": [
      "B\n"
     ]
    }
   ],
   "source": [
    "grade = 80\n",
    "if grade >= 90:\n",
    "    print ('A')\n",
    "elif grade >= 80:\n",
    "    print ('B')\n",
    "elif grade >= 70:\n",
    "    print ('C')\n",
    "elif grade >= 60:\n",
    "    print ('D')\n",
    "else:\n",
    "    print ('F')"
   ]
  },
  {
   "cell_type": "code",
   "execution_count": 11,
   "id": "9a03a4c3-2bfc-4bfe-a646-ae4668d02fe4",
   "metadata": {},
   "outputs": [
    {
     "name": "stdout",
     "output_type": "stream",
     "text": [
      "81\n"
     ]
    }
   ],
   "source": [
    "#While Statements\n",
    "\n",
    "product = 3\n",
    "while product <= 50:\n",
    "    product = product * 3\n",
    "\n",
    "print(product)"
   ]
  },
  {
   "cell_type": "code",
   "execution_count": 12,
   "id": "613be112-a48e-4ae0-86d6-0450b5f7817e",
   "metadata": {},
   "outputs": [
    {
     "name": "stdout",
     "output_type": "stream",
     "text": [
      "2401\n"
     ]
    }
   ],
   "source": [
    "product = 7\n",
    "while product <= 1000:\n",
    "    product = product * 7\n",
    "    \n",
    "print (product)"
   ]
  },
  {
   "cell_type": "code",
   "execution_count": 13,
   "id": "99c90538-54cc-4a75-8935-d0b672928b37",
   "metadata": {},
   "outputs": [
    {
     "name": "stdout",
     "output_type": "stream",
     "text": [
      "P r o g r a m m i n g "
     ]
    }
   ],
   "source": [
    "for character in 'Programming':\n",
    "    print(character, end=' ' )\n"
   ]
  },
  {
   "cell_type": "code",
   "execution_count": 14,
   "id": "8b4b37e8-9c4e-4cda-ad7f-8074ad9b0571",
   "metadata": {},
   "outputs": [
    {
     "name": "stdout",
     "output_type": "stream",
     "text": [
      "10 20 30\n"
     ]
    }
   ],
   "source": [
    "print(10,20,30)\n"
   ]
  },
  {
   "cell_type": "code",
   "execution_count": 15,
   "id": "4c5ea6c0-7566-4f51-98a5-f07ebe39e752",
   "metadata": {},
   "outputs": [
    {
     "name": "stdout",
     "output_type": "stream",
     "text": [
      "10 20 30\n"
     ]
    }
   ],
   "source": [
    "print(10, 20, 30)"
   ]
  },
  {
   "cell_type": "code",
   "execution_count": 16,
   "id": "65a911c1-98b7-40d5-b902-b3f89c0e6827",
   "metadata": {},
   "outputs": [
    {
     "name": "stdout",
     "output_type": "stream",
     "text": [
      "10, 20, 30\n"
     ]
    }
   ],
   "source": [
    "print(10, 20, 30, sep=', ')"
   ]
  },
  {
   "cell_type": "code",
   "execution_count": 17,
   "id": "1aecc4cd-fdf3-4ed6-b7da-9f1fa690f9b2",
   "metadata": {},
   "outputs": [
    {
     "name": "stdout",
     "output_type": "stream",
     "text": [
      "10,20,30\n"
     ]
    }
   ],
   "source": [
    "print(10, 20, 30, sep=',')"
   ]
  },
  {
   "cell_type": "code",
   "execution_count": 18,
   "id": "a9d6a5b8-5e77-4182-b7a6-1696105ef8b7",
   "metadata": {},
   "outputs": [
    {
     "name": "stdout",
     "output_type": "stream",
     "text": [
      "0 1 2 3 4 5 6 7 8 9 "
     ]
    }
   ],
   "source": [
    "for counter in range(10):\n",
    "    print(counter, end=' ')"
   ]
  },
  {
   "cell_type": "code",
   "execution_count": 19,
   "id": "60291a6b-e524-4eed-9248-be8ac463af30",
   "metadata": {},
   "outputs": [
    {
     "name": "stdout",
     "output_type": "stream",
     "text": [
      "0\n",
      "1\n",
      "3\n",
      "6\n",
      "10\n",
      "15\n",
      "21\n",
      "28\n",
      "36\n",
      "45\n",
      "55\n"
     ]
    }
   ],
   "source": [
    "total = 0\n",
    "for number in range(11):\n",
    "    total = total + number\n",
    "    print(total)"
   ]
  },
  {
   "cell_type": "code",
   "execution_count": 20,
   "id": "0176e327-6c48-40c0-b144-69c41045eedd",
   "metadata": {},
   "outputs": [
    {
     "name": "stdout",
     "output_type": "stream",
     "text": [
      "1\n",
      "3\n",
      "6\n",
      "10\n",
      "15\n"
     ]
    }
   ],
   "source": [
    "total = 0\n",
    "for number in [1, 2, 3, 4, 5]:\n",
    "    total += number\n",
    "    print(total)"
   ]
  },
  {
   "cell_type": "code",
   "execution_count": 21,
   "id": "89d1497b-fad7-4a8e-9406-7cf19d42a60d",
   "metadata": {},
   "outputs": [
    {
     "name": "stdout",
     "output_type": "stream",
     "text": [
      "35\n"
     ]
    }
   ],
   "source": [
    "x = 7\n",
    "x *= 5\n",
    "print(x)"
   ]
  },
  {
   "cell_type": "code",
   "execution_count": 22,
   "id": "33e5440a-e24a-4b20-b28a-78cb11c1569f",
   "metadata": {},
   "outputs": [
    {
     "name": "stdout",
     "output_type": "stream",
     "text": [
      "144\n"
     ]
    }
   ],
   "source": [
    "x = 12\n",
    "x **= 2\n",
    "print(x)"
   ]
  },
  {
   "cell_type": "code",
   "execution_count": 23,
   "id": "797e2968-b46c-4e94-8b14-1151a69ba22a",
   "metadata": {},
   "outputs": [
    {
     "name": "stdout",
     "output_type": "stream",
     "text": [
      "Class average is 98.0\n",
      "Class average is 87.0\n",
      "Class average is 81.66666666666667\n",
      "Class average is 83.0\n",
      "Class average is 83.0\n",
      "Class average is 84.16666666666667\n",
      "Class average is 80.28571428571429\n",
      "Class average is 80.125\n",
      "Class average is 80.33333333333333\n",
      "Class average is 81.7\n"
     ]
    }
   ],
   "source": [
    "#coding algorithm average\n",
    "\n",
    "total = 0 # sum of grades\n",
    "grade_counter = 0\n",
    "grades = [98, 76, 71, 87, 83, 90, 57, 79, 82, 94]\n",
    "    \n",
    "for grade in grades:\n",
    "    total += grade\n",
    "    grade_counter += 1\n",
    "        \n",
    "    average = total / grade_counter\n",
    "    print(f'Class average is {average}')"
   ]
  },
  {
   "cell_type": "code",
   "execution_count": 24,
   "id": "4b6b3f2e-f635-41de-93e3-40e76530efbe",
   "metadata": {},
   "outputs": [
    {
     "name": "stdout",
     "output_type": "stream",
     "text": [
      "5 6 7 8 9 "
     ]
    }
   ],
   "source": [
    "for number in range(5,10):\n",
    "    print(number, end=' ')"
   ]
  },
  {
   "cell_type": "code",
   "execution_count": 25,
   "id": "205d091d-e669-4022-96c1-aed7b5994b17",
   "metadata": {},
   "outputs": [
    {
     "name": "stdout",
     "output_type": "stream",
     "text": [
      "0 2 4 6 8 "
     ]
    }
   ],
   "source": [
    "for number in range(0,10,2):\n",
    "    print(number, end=' ')"
   ]
  },
  {
   "cell_type": "code",
   "execution_count": 26,
   "id": "184fe45b-7efb-4ca4-b42b-40d50c65919b",
   "metadata": {},
   "outputs": [
    {
     "name": "stdout",
     "output_type": "stream",
     "text": [
      "10 8 6 4 2 "
     ]
    }
   ],
   "source": [
    "for number in range(10, 0, -2):\n",
    "    print(number, end=' ')"
   ]
  },
  {
   "cell_type": "code",
   "execution_count": 27,
   "id": "4dc8bc76-7548-4a97-b4f9-0e1bc60d0fa5",
   "metadata": {},
   "outputs": [
    {
     "name": "stdout",
     "output_type": "stream",
     "text": [
      "100.21\n",
      "100.2100000000\n"
     ]
    }
   ],
   "source": [
    "amount = 100.21\n",
    "print(amount)\n",
    "print(f'{amount:.10f}')"
   ]
  },
  {
   "cell_type": "code",
   "execution_count": 28,
   "id": "6d82d2d4-eb4b-4048-b69b-caf10afd5424",
   "metadata": {},
   "outputs": [
    {
     "name": "stdout",
     "output_type": "stream",
     "text": [
      "0 1 2 3 4 "
     ]
    }
   ],
   "source": [
    "for number in range(100):\n",
    "    if number == 5:\n",
    "        break\n",
    "    print(number, end=' ')"
   ]
  },
  {
   "cell_type": "code",
   "execution_count": 29,
   "id": "14bcc79d-5f4f-476b-8901-ab33598b7818",
   "metadata": {},
   "outputs": [
    {
     "name": "stdout",
     "output_type": "stream",
     "text": [
      "0 1 2 3 4 6 7 8 9 10 11 12 13 14 "
     ]
    }
   ],
   "source": [
    "for number in range(15):\n",
    "    if number == 5:\n",
    "        continue\n",
    "    print(number, end=' ')"
   ]
  },
  {
   "cell_type": "code",
   "execution_count": 30,
   "id": "e0a178f2-d1a7-41f2-8348-74a10c5aac82",
   "metadata": {},
   "outputs": [
    {
     "name": "stdout",
     "output_type": "stream",
     "text": [
      "Senior Female\n"
     ]
    }
   ],
   "source": [
    "gender = 'Female'\n",
    "age = 60\n",
    "if gender == 'Female' and age >= 55:\n",
    "    print('Senior Female')\n"
   ]
  },
  {
   "cell_type": "code",
   "execution_count": 31,
   "id": "aabc27d6-cc99-46bb-bc88-a461d0d1bcff",
   "metadata": {},
   "outputs": [
    {
     "data": {
      "text/plain": [
       "True"
      ]
     },
     "execution_count": 31,
     "metadata": {},
     "output_type": "execute_result"
    }
   ],
   "source": [
    "i = 1\n",
    "j = 2\n",
    "k = 3\n",
    "m = 2\n",
    "\n",
    "(i>=1) and (j<4)\n"
   ]
  },
  {
   "cell_type": "code",
   "execution_count": 32,
   "id": "5e6f105c-2b70-4e3d-8ca1-40d8508502c0",
   "metadata": {},
   "outputs": [
    {
     "data": {
      "text/plain": [
       "False"
      ]
     },
     "execution_count": 32,
     "metadata": {},
     "output_type": "execute_result"
    }
   ],
   "source": [
    "(m <= 99) and (k < m)\n",
    "\n",
    "  \n"
   ]
  },
  {
   "cell_type": "code",
   "execution_count": 33,
   "id": "a8472fcb-a343-4f0f-a8ed-a15c973f3f9e",
   "metadata": {},
   "outputs": [
    {
     "data": {
      "text/plain": [
       "True"
      ]
     },
     "execution_count": 33,
     "metadata": {},
     "output_type": "execute_result"
    }
   ],
   "source": [
    "(j >= i) or (k == m)\n"
   ]
  },
  {
   "cell_type": "code",
   "execution_count": 34,
   "id": "1c360ace-cad2-4461-9a91-52a7330e445f",
   "metadata": {},
   "outputs": [
    {
     "data": {
      "text/plain": [
       "False"
      ]
     },
     "execution_count": 34,
     "metadata": {},
     "output_type": "execute_result"
    }
   ],
   "source": [
    "(k + m < j) or (3 - j >= k)\n",
    "\n"
   ]
  },
  {
   "cell_type": "code",
   "execution_count": 35,
   "id": "27e44b38-7fef-4552-80ec-499ae7401c6f",
   "metadata": {},
   "outputs": [
    {
     "data": {
      "text/plain": [
       "False"
      ]
     },
     "execution_count": 35,
     "metadata": {},
     "output_type": "execute_result"
    }
   ],
   "source": [
    "not (k > m)\n",
    "  "
   ]
  },
  {
   "cell_type": "code",
   "execution_count": 36,
   "id": "b9e08397-b7c2-4e9e-b6a0-6a2bb86c616d",
   "metadata": {},
   "outputs": [
    {
     "data": {
      "text/plain": [
       "79.4"
      ]
     },
     "execution_count": 36,
     "metadata": {},
     "output_type": "execute_result"
    }
   ],
   "source": [
    "grades = [85, 93, 45, 89, 85]\n",
    "sum(grades)/len(grades)"
   ]
  },
  {
   "cell_type": "code",
   "execution_count": 37,
   "id": "afa8b9f9-c261-47f4-babd-c991ed9f9553",
   "metadata": {},
   "outputs": [
    {
     "data": {
      "text/plain": [
       "79.16666666666667"
      ]
     },
     "execution_count": 37,
     "metadata": {},
     "output_type": "execute_result"
    }
   ],
   "source": [
    "import statistics\n",
    "values = [47, 95, 88, 73, 88, 84]\n",
    "statistics.mean(values)"
   ]
  },
  {
   "cell_type": "code",
   "execution_count": 43,
   "id": "4a921063-8fa5-4834-9aaf-f9a1173770e9",
   "metadata": {},
   "outputs": [
    {
     "data": {
      "text/plain": [
       "88"
      ]
     },
     "execution_count": 43,
     "metadata": {},
     "output_type": "execute_result"
    }
   ],
   "source": [
    "statistics.mode(values)"
   ]
  },
  {
   "cell_type": "code",
   "execution_count": 44,
   "id": "e7291005-886b-4744-82fb-b1c83d9948f7",
   "metadata": {},
   "outputs": [
    {
     "data": {
      "text/plain": [
       "86.0"
      ]
     },
     "execution_count": 44,
     "metadata": {},
     "output_type": "execute_result"
    }
   ],
   "source": [
    "statistics.median(values)"
   ]
  },
  {
   "cell_type": "code",
   "execution_count": 45,
   "id": "f5c277f8-f00c-4ffd-86aa-6799ab340e35",
   "metadata": {},
   "outputs": [
    {
     "name": "stdout",
     "output_type": "stream",
     "text": [
      "6\n",
      "475\n",
      "79.16666666666667\n"
     ]
    }
   ],
   "source": [
    "values = [47, 95, 88, 73, 88, 84]\n",
    "print(len(values))\n",
    "print(sum(values))\n",
    "print(sum(values)/len(values))"
   ]
  },
  {
   "cell_type": "code",
   "execution_count": 46,
   "id": "c07beb0a-6637-4890-9b50-65a6de032f26",
   "metadata": {},
   "outputs": [
    {
     "data": {
      "text/plain": [
       "79.16666666666667"
      ]
     },
     "execution_count": 46,
     "metadata": {},
     "output_type": "execute_result"
    }
   ],
   "source": [
    "values = [47, 95, 88, 73, 88, 84]\n",
    "statistics.mean(values)\n"
   ]
  },
  {
   "cell_type": "code",
   "execution_count": 47,
   "id": "9b1c7323-169e-4823-b2fb-bd55bd990965",
   "metadata": {},
   "outputs": [
    {
     "name": "stdout",
     "output_type": "stream",
     "text": [
      "10\n",
      "55\n",
      "5.5\n",
      "1\n",
      "5.5\n"
     ]
    }
   ],
   "source": [
    "data = [1,2,3,4,5,6,7,8,9,10]\n",
    "print(len(data))\n",
    "print(sum(data))\n",
    "print(statistics.mean(data))\n",
    "print(statistics.mode(data))\n",
    "print(statistics.median(data))"
   ]
  },
  {
   "cell_type": "code",
   "execution_count": null,
   "id": "c3a4cf0e-bda1-4c09-b203-1a6e9b76ba05",
   "metadata": {},
   "outputs": [],
   "source": []
  }
 ],
 "metadata": {
  "kernelspec": {
   "display_name": "Python 3 (ipykernel)",
   "language": "python",
   "name": "python3"
  },
  "language_info": {
   "codemirror_mode": {
    "name": "ipython",
    "version": 3
   },
   "file_extension": ".py",
   "mimetype": "text/x-python",
   "name": "python",
   "nbconvert_exporter": "python",
   "pygments_lexer": "ipython3",
   "version": "3.9.5"
  }
 },
 "nbformat": 4,
 "nbformat_minor": 5
}
