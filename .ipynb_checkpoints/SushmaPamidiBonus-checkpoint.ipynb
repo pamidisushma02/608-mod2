{
 "cells": [
  {
   "cell_type": "code",
   "execution_count": 1,
   "id": "43ee8fa9-95d0-4531-82de-132023ad63aa",
   "metadata": {},
   "outputs": [
    {
     "name": "stdout",
     "output_type": "stream",
     "text": [
      "[86, 35, 148, 78, 171, 73, 177, 178, 31, 169, 49, 62, 43, 123, 72, 120, 143, 139, 29, 9, 35, 111, 48, 81, 161, 100, 136, 159, 84, 61, 122, 78, 31, 95, 145, 172, 40, 32, 29, 186, 78, 43, 137, 5, 150, 179, 34, 123, 51, 21, 65, 96, 11, 154, 92, 131, 194, 72, 37, 130, 115, 120, 178, 47, 124, 82, 6, 143, 146, 194, 38, 185, 70, 30, 156, 74, 168, 178, 176, 63, 198, 89, 136, 86, 162, 95, 5, 61, 57, 99, 58, 194, 77, 18, 188, 163, 197, 187, 76, 173]\n",
      "count: 100\n",
      "sum: 10256\n",
      "mean: 102.56\n",
      "median: 95.0\n",
      "mode: 78\n"
     ]
    }
   ],
   "source": [
    "\n",
    "#generating random numbers using numpy ---\n",
    "#Reference below\n",
    "#https://www.geeksforgeeks.org/python-generate-random-numbers-within-a-given-range-and-store-in-a-list/\n",
    "\n",
    "import numpy as np\n",
    "def Rand(start, end, num):\n",
    "    res = []\n",
    " \n",
    "    for k in range(num):\n",
    "        res.append(np.random.randint(start, end))\n",
    " \n",
    "    return res\n",
    "\n",
    "# Giving some start and end numbers \n",
    "num = 100\n",
    "start = 1\n",
    "end = 200\n",
    "\n",
    "# Calculating the len,sum etc\n",
    "Range = Rand(start,end,num)\n",
    "print(Range)\n",
    "\n",
    "print('count:',len(Range))\n",
    "print('sum:',sum(Range))\n",
    "\n",
    "import statistics\n",
    "print('mean:',statistics.mean(Range))\n",
    "print('median:',statistics.median(Range))\n",
    "print('mode:',statistics.mode(Range))\n"
   ]
  },
  {
   "cell_type": "code",
   "execution_count": null,
   "id": "611bbe7c-cb43-490b-b937-051704aaee83",
   "metadata": {},
   "outputs": [],
   "source": []
  }
 ],
 "metadata": {
  "kernelspec": {
   "display_name": "Python 3 (ipykernel)",
   "language": "python",
   "name": "python3"
  },
  "language_info": {
   "codemirror_mode": {
    "name": "ipython",
    "version": 3
   },
   "file_extension": ".py",
   "mimetype": "text/x-python",
   "name": "python",
   "nbconvert_exporter": "python",
   "pygments_lexer": "ipython3",
   "version": "3.9.5"
  }
 },
 "nbformat": 4,
 "nbformat_minor": 5
}
